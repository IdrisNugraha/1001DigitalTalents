{
 "cells": [
  {
   "cell_type": "markdown",
   "metadata": {},
   "source": [
    "### Buat Corpus "
   ]
  },
  {
   "cell_type": "code",
   "execution_count": null,
   "metadata": {},
   "outputs": [],
   "source": [
    "corpus = ['i saw her standing there',\n",
    "         'i saw the saw',\n",
    "         'but i give her an umbrella insted of the saw',\n",
    "         'i come but she run',\n",
    "         'she run and run away',\n",
    "         'i give her the umbrella but she give me the saw']"
   ]
  },
  {
   "cell_type": "code",
   "execution_count": null,
   "metadata": {},
   "outputs": [],
   "source": [
    "corpus"
   ]
  },
  {
   "cell_type": "markdown",
   "metadata": {},
   "source": [
    "### Melakukan tokenisasi"
   ]
  },
  {
   "cell_type": "code",
   "execution_count": null,
   "metadata": {},
   "outputs": [],
   "source": [
    "all_text_corpus = \"\"\n",
    "for line in corpus:\n",
    "    all_text_corpus += line + \" \"\n",
    "    \n",
    "print(all_text_corpus)"
   ]
  },
  {
   "cell_type": "code",
   "execution_count": null,
   "metadata": {},
   "outputs": [],
   "source": [
    "from nltk import word_tokenize\n",
    "from nltk import FreqDist\n",
    "freq_token = FreqDist(word_tokenize(all_text_corpus))\n",
    "\n",
    "print(freq_token.most_common())\n",
    "\n",
    "from nltk.util import ngrams\n",
    "\n",
    "freq_bigrams = FreqDist(ngrams(word_tokenize(all_text_corpus), 2))\n",
    "print(freq_bigrams.most_common())"
   ]
  },
  {
   "cell_type": "code",
   "execution_count": null,
   "metadata": {},
   "outputs": [],
   "source": [
    "dict(freq_bigrams)"
   ]
  },
  {
   "cell_type": "markdown",
   "metadata": {},
   "source": [
    "## Calcuting bigram probabilities:\n",
    "\n",
    "P( w<sub>i</sub> | w<sub>i-1</sub> ) = count ( w<sub>i-1</sub>, w<sub>i</sub> ) / count ( w<sub>i-1</sub> )\n",
    "\n",
    "In english..\n",
    "\n",
    "Probability that word<sub>i-1</sub> is followed by word<sub>i</sub> =\n",
    "[Num times we saw word<sub>i-1</sub> followed by word<sub>i</sub>] / [Num times we saw word<sub>i-1</sub>]\n"
   ]
  },
  {
   "cell_type": "code",
   "execution_count": null,
   "metadata": {},
   "outputs": [],
   "source": [
    "import decimal\n",
    "\n",
    "def hitung_bigrams(token, bigrams, text):\n",
    "    print(\"token:\")\n",
    "    print(token)\n",
    "    print(\"\\nbigrams:\")\n",
    "    print(bigrams)\n",
    "    print(\"\\ntext:\")\n",
    "    print(text)\n",
    "    dict_bigrams = dict(bigrams)\n",
    "    dict_token = dict(token)\n",
    "    print('====================================')\n",
    "    \n",
    "    # explode text\n",
    "    token_text = word_tokenize(text)\n",
    "    bigrams_text = FreqDist(ngrams(token_text, 2))\n",
    "    \n",
    "    for i in bigrams_text:\n",
    "        print(i)\n",
    "        print(\"P({} | {}) = P({}) / P({})\".format(i[1], i[0], i, i[0]))\n",
    "        \n",
    "        try:\n",
    "            prob_a = dict_bigrams[i[0], i[1]]\n",
    "        except:\n",
    "            prob_a = 0\n",
    "            \n",
    "        try:\n",
    "            prob_b = dict_token[i[0]]\n",
    "        except:\n",
    "            prob_b = 0\n",
    "            \n",
    "        print(\"prob atas: \"+ str(prob_a))\n",
    "        print(\"prob bawah: \"+ str(prob_b))\n",
    "        print(\"P({} | {}) = P({}) / P({})\".format(i[1], i[0], prob_a, prob_b))\n",
    "        \n",
    "        #hitung prob\n",
    "        if prob_a <= 0 and prob_b > 0:\n",
    "            print(decimal.Decimal(prob_a+0.1)/decimal.Decimal(prob_b))\n",
    "        elif prob_a > 0 and prob_b <= 0:\n",
    "            print(decimal.Decimal(prob_a)/decimal.Decimal(prob_b+0.1))\n",
    "        elif prob_a <= 0 and prob_b <= 0:\n",
    "            print(decimal.Decimal(prob_a+0.1)/decimal.Decimal(prob_b+0.1))\n",
    "        elif prob_a > 0 and prob_b > 0:\n",
    "            print(decimal.Decimal(prob_a)/decimal.Decimal(prob_b))\n",
    "\n",
    "        print('------------------------------------')\n",
    "        \n",
    "hitung_bigrams(freq_token, freq_bigrams, \"i give the saw\")"
   ]
  },
  {
   "cell_type": "markdown",
   "metadata": {},
   "source": [
    "### Calculating trigram probabilities:\n",
    "\n",
    "Building off the logic in bigram probabilities,\n",
    "\n",
    "P( w<sub>i</sub> | w<sub>i-1</sub> w<sub>i-2</sub> ) = count ( w<sub>i</sub>, w<sub>i-1</sub>, w<sub>i-2</sub> ) / count ( w<sub>i-1</sub>, w<sub>i-2</sub> )\n",
    "\n",
    "Example\n",
    "-------\n",
    "\n",
    "- P( Sam | I am ) \n",
    "= count( Sam I am ) / count(I am)\n",
    "= 1 / 2\n"
   ]
  },
  {
   "cell_type": "code",
   "execution_count": null,
   "metadata": {},
   "outputs": [],
   "source": [
    "from nltk import word_tokenize\n",
    "from nltk.util import ngrams\n",
    "freq_token_bigrams = FreqDist(ngrams(word_tokenize(all_text_corpus), 2))\n",
    "\n",
    "# print(freq_token_bigrams.most_common())\n",
    "# print('__________')\n",
    "\n",
    "freq_token_trigrams = FreqDist(ngrams(word_tokenize(all_text_corpus), 3))\n",
    "# print(freq_token_trigrams.most_common())"
   ]
  },
  {
   "cell_type": "code",
   "execution_count": null,
   "metadata": {
    "scrolled": true
   },
   "outputs": [],
   "source": [
    "import decimal\n",
    "\n",
    "def hitung_trigrams(token, bigrams, text):\n",
    "    print(\"token:\")\n",
    "    print(token)\n",
    "    print(\"\\nbigrams:\")\n",
    "    print(bigrams)\n",
    "    print(\"\\ntext:\")\n",
    "    print(text)\n",
    "    dict_bigrams = dict(bigrams)\n",
    "    dict_token = dict(token)\n",
    "    print('====================================')\n",
    "    \n",
    "    # explode text\n",
    "    token_text = word_tokenize(text)\n",
    "    trigrams_text = FreqDist(ngrams(token_text, 3))\n",
    "    \n",
    "    for i in trigrams_text:\n",
    "        print(i)\n",
    "        print(\"P({} | {} {}) = P({} {} {}) / P({} {})\".format(i[0], i[1], i[2], i[0], i[1], i[2], i[1], i[2]))\n",
    "        \n",
    "        try:\n",
    "            prob_a = dict_bigrams[i[0], i[1], i[2]]\n",
    "        except:\n",
    "            prob_a = 0\n",
    "            \n",
    "        try:\n",
    "            prob_b = dict_token[i[1], i[2]]\n",
    "        except:\n",
    "            prob_b = 0\n",
    "            \n",
    "        print(\"prob atas: \"+ str(prob_a))\n",
    "        print(\"prob bawah: \"+ str(prob_b))\n",
    "        print(\"P({} | {}) = P({}) / P({})\".format(i[1], i[0], prob_a, prob_b))\n",
    "        \n",
    "        #hitung prob\n",
    "        if prob_a <= 0 and prob_b > 0:\n",
    "            print(decimal.Decimal(prob_a+0.1)/decimal.Decimal(prob_b))\n",
    "        elif prob_a > 0 and prob_b <= 0:\n",
    "            print(decimal.Decimal(prob_a)/decimal.Decimal(prob_b+0.1))\n",
    "        elif prob_a <= 0 and prob_b <= 0:\n",
    "            print(decimal.Decimal(prob_a+0.1)/decimal.Decimal(prob_b+0.1))\n",
    "        elif prob_a > 0 and prob_b > 0:\n",
    "            print(decimal.Decimal(prob_a)/decimal.Decimal(prob_b))\n",
    "\n",
    "        print('------------------------------------')\n",
    "        \n",
    "hitung_trigrams(freq_token_bigrams, freq_token_trigrams, \"i saw the saw\")"
   ]
  },
  {
   "cell_type": "code",
   "execution_count": null,
   "metadata": {},
   "outputs": [],
   "source": []
  }
 ],
 "metadata": {
  "kernelspec": {
   "display_name": "Python 2",
   "language": "python",
   "name": "python2"
  },
  "language_info": {
   "codemirror_mode": {
    "name": "ipython",
    "version": 2
   },
   "file_extension": ".py",
   "mimetype": "text/x-python",
   "name": "python",
   "nbconvert_exporter": "python",
   "pygments_lexer": "ipython2",
   "version": "2.7.6"
  }
 },
 "nbformat": 4,
 "nbformat_minor": 2
}
